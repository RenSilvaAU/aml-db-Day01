{
 "cells": [
  {
   "cell_type": "markdown",
   "metadata": {},
   "source": [
    "# 5.2 (AML) Data Exploration and Visualisation in Azure ML\n",
    "\n",
    "\n",
    "## Data Exploration with Open Source tools"
   ]
  },
  {
   "cell_type": "code",
   "execution_count": null,
   "metadata": {
    "application/vnd.databricks.v1+cell": {
     "inputWidgets": {},
     "nuid": "30f958f8-c842-4b88-8eab-0cab5244ce03",
     "showTitle": true,
     "title": "Create an MLFlow Experiment"
    }
   },
   "outputs": [],
   "source": [
    "import os\n",
    "from azureml.core import Workspace, Dataset\n",
    "from azureml.core.authentication import ServicePrincipalAuthentication\n",
    "\n",
    "\n",
    "service_principal = ServicePrincipalAuthentication(\n",
    "    tenant_id=\"502f2f1d-000c-410d-9d65-de9b3cfa9a83\",\n",
    "    service_principal_id=\"5203e379-a33a-4aea-bd8d-20bef410cc72\",\n",
    "    service_principal_password=\"9~by7nEl35Zv-3lntYqwm7b-15~ulIWHmw\")\n",
    "\n",
    "\n",
    "ws = Workspace(\n",
    "    subscription_id='f9f80119-dbb0-496f-8e2c-351e0b95b66e',\n",
    "    resource_group='bupa_demo',\n",
    "    workspace_name='bupa_demo',\n",
    "    auth=service_principal)\n",
    "\n",
    "print(\"Found workspace {} at location {}\".format(ws.name, ws.location))"
   ]
  },
  {
   "cell_type": "code",
   "execution_count": null,
   "metadata": {},
   "outputs": [],
   "source": [
    "import pandas as pd\n",
    "dataset = Dataset.get_by_name(ws, name='car_and_health_insurance_cross_sell')\n",
    "\n",
    "df = dataset.to_pandas_dataframe()\n",
    "\n",
    "df.head()"
   ]
  },
  {
   "cell_type": "code",
   "execution_count": null,
   "metadata": {
    "application/vnd.databricks.v1+cell": {
     "inputWidgets": {},
     "nuid": "92c5e6ff-a96a-45a7-9276-86006f31dfaa",
     "showTitle": true,
     "title": "Separate into Test and Train"
    }
   },
   "outputs": [],
   "source": [
    "from sklearn.model_selection import train_test_split\n",
    "\n",
    "import copy\n",
    "import os\n",
    "\n",
    "df_train, df_test = train_test_split(df, test_size=0.2, random_state=65)\n",
    "\n",
    "print('Dataset sizes:')\n",
    "print(f'\\t->df_train size={df_train.shape[0]}')\n",
    "print(f'\\t->df_test size={df_test.shape[0]}')"
   ]
  },
  {
   "cell_type": "markdown",
   "metadata": {
    "application/vnd.databricks.v1+cell": {
     "inputWidgets": {},
     "nuid": "04be8383-fbdb-4ea7-ab15-2bad51797ae9",
     "showTitle": false,
     "title": ""
    }
   },
   "source": [
    "# 1. Quick EDA"
   ]
  },
  {
   "cell_type": "code",
   "execution_count": null,
   "metadata": {},
   "outputs": [],
   "source": [
    "!pip install seaborn plotly"
   ]
  },
  {
   "cell_type": "code",
   "execution_count": null,
   "metadata": {
    "application/vnd.databricks.v1+cell": {
     "inputWidgets": {},
     "nuid": "8e6b2b56-f13c-4e08-af6b-02eb277aed77",
     "showTitle": false,
     "title": ""
    }
   },
   "outputs": [],
   "source": [
    "import matplotlib.pyplot as plt\n",
    "import seaborn as sns\n",
    "import plotly.express as px\n",
    "\n",
    "import pandas as pd"
   ]
  },
  {
   "cell_type": "markdown",
   "metadata": {
    "application/vnd.databricks.v1+cell": {
     "inputWidgets": {},
     "nuid": "f133c5b2-ad57-4f63-8c90-fb7f131c7d87",
     "showTitle": false,
     "title": ""
    }
   },
   "source": [
    "Looks like the most useful features to predict `Response` are:\n",
    "- `Age`\n",
    "- `Previously_Insured`\n",
    "- `Policy_Sales_Channel`\n",
    "- `Claimns_Amount`\n",
    "- `Claims_Num`"
   ]
  },
  {
   "cell_type": "code",
   "execution_count": null,
   "metadata": {
    "application/vnd.databricks.v1+cell": {
     "inputWidgets": {},
     "nuid": "f5016459-0d6f-4e91-b232-514498fed5cd",
     "showTitle": false,
     "title": ""
    }
   },
   "outputs": [],
   "source": [
    "plt.figure(figsize=(16, 6))\n",
    "heatmap = sns.heatmap(df_train.corr(), vmin=-1, vmax=1, annot=True)\n",
    "heatmap.set_title('Correlation Heatmap', fontdict={'fontsize':12}, pad=12);"
   ]
  },
  {
   "cell_type": "markdown",
   "metadata": {
    "application/vnd.databricks.v1+cell": {
     "inputWidgets": {},
     "nuid": "1695af91-d4d6-4286-84c9-b830fb390fcd",
     "showTitle": false,
     "title": ""
    }
   },
   "source": [
    "It looks like we are dealing with imbalanced dataset. `1` has 46.7k samples vs `0` 334.4k"
   ]
  },
  {
   "cell_type": "code",
   "execution_count": null,
   "metadata": {
    "application/vnd.databricks.v1+cell": {
     "inputWidgets": {},
     "nuid": "8b75af0a-906f-4105-8869-4ed69f11c74f",
     "showTitle": false,
     "title": ""
    }
   },
   "outputs": [],
   "source": [
    "display(df.groupby('Response').count()[['id']])"
   ]
  },
  {
   "cell_type": "code",
   "execution_count": null,
   "metadata": {
    "application/vnd.databricks.v1+cell": {
     "inputWidgets": {},
     "nuid": "71789cf3-a73b-42c6-9a9e-0c37a1ea1f3a",
     "showTitle": false,
     "title": ""
    }
   },
   "outputs": [],
   "source": [
    "response_1 = df_train[df_train['Response'] == 1]\n",
    "response_0 = df_train[df_train['Response'] == 0]\n",
    "\n",
    "df_train_balanced = pd.concat([response_1, response_0.sample(response_1.shape[0])])"
   ]
  },
  {
   "cell_type": "code",
   "execution_count": null,
   "metadata": {
    "application/vnd.databricks.v1+cell": {
     "inputWidgets": {},
     "nuid": "acfaed3b-7404-4a03-9155-2007c232e5d8",
     "showTitle": false,
     "title": ""
    }
   },
   "outputs": [],
   "source": [
    "\n",
    "correlated_features = ['Age', 'Previously_Insured', 'Policy_Sales_Channel', 'Claims_Amount', 'Claims_Num']"
   ]
  },
  {
   "cell_type": "code",
   "execution_count": null,
   "metadata": {
    "application/vnd.databricks.v1+cell": {
     "inputWidgets": {},
     "nuid": "1db1e40b-b4d6-41e5-9960-c27ea15e31b7",
     "showTitle": false,
     "title": ""
    }
   },
   "outputs": [],
   "source": [
    "fig = px.histogram(df_train_balanced.sample(10000), x= correlated_features[0], marginal='box', color='Response')\n",
    "fig.show()"
   ]
  }
 ],
 "metadata": {
  "application/vnd.databricks.v1+notebook": {
   "dashboards": [],
   "language": "python",
   "notebookName": "1.0 Machine Learning",
   "notebookOrigID": 558668845590069,
   "widgets": {
    "correlated_features": {
     "currentValue": "Age",
     "nuid": "b5f8743a-c409-4ea2-aedd-7194a677de1f",
     "widgetInfo": {
      "defaultValue": "Age",
      "label": null,
      "name": "correlated_features",
      "options": {
       "choices": [
        "Age",
        "Previously_Insured",
        "Policy_Sales_Channel",
        "Claims_Amount",
        "Claims_Num"
       ],
       "widgetType": "dropdown"
      },
      "widgetType": "dropdown"
     }
    }
   }
  },
  "kernelspec": {
   "display_name": "Python 3.6 - AzureML",
   "language": "python",
   "name": "python3-azureml"
  },
  "language_info": {
   "codemirror_mode": {
    "name": "ipython",
    "version": 3
   },
   "file_extension": ".py",
   "mimetype": "text/x-python",
   "name": "python",
   "nbconvert_exporter": "python",
   "pygments_lexer": "ipython3",
   "version": "3.6.9"
  }
 },
 "nbformat": 4,
 "nbformat_minor": 1
}
