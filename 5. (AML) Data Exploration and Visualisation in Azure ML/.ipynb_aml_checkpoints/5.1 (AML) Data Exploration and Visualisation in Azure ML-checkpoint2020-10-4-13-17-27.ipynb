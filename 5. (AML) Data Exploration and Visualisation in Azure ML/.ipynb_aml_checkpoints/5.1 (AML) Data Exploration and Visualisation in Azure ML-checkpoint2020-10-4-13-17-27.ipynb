{
 "cells": [
  {
   "cell_type": "markdown",
   "metadata": {
    "application/vnd.databricks.v1+cell": {
     "inputWidgets": {},
     "nuid": "b09486fd-bfbe-4631-bd7e-2be68504700e",
     "showTitle": false,
     "title": ""
    }
   },
   "source": [
    "# 5.1 (AML) Data Exploration and Visualisation in Azure ML\n",
    "\n",
    "\n",
    "### Using Dataframes in Python"
   ]
  },
  {
   "cell_type": "code",
   "execution_count": null,
   "metadata": {
    "application/vnd.databricks.v1+cell": {
     "inputWidgets": {},
     "nuid": "9ecec40a-4c29-4f8f-82f5-01147fee9321",
     "showTitle": false,
     "title": ""
    }
   },
   "outputs": [],
   "source": [
    "import os\n",
    "from azureml.core import Workspace, Dataset\n",
    "from azureml.core.authentication import ServicePrincipalAuthentication\n",
    "\n",
    "\n",
    "service_principal = ServicePrincipalAuthentication(\n",
    "    tenant_id=\"502f2f1d-000c-410d-9d65-de9b3cfa9a83\",\n",
    "    service_principal_id=\"5203e379-a33a-4aea-bd8d-20bef410cc72\",\n",
    "    service_principal_password=\"9~by7nEl35Zv-3lntYqwm7b-15~ulIWHmw\")\n",
    "\n",
    "\n",
    "ws = Workspace(\n",
    "    subscription_id='f9f80119-dbb0-496f-8e2c-351e0b95b66e',\n",
    "    resource_group='bupa_demo',\n",
    "    workspace_name='bupa_demo',\n",
    "    auth=service_principal)\n",
    "\n",
    "print(\"Found workspace {} at location {}\".format(ws.name, ws.location))"
   ]
  },
  {
   "cell_type": "code",
   "execution_count": null,
   "metadata": {
    "application/vnd.databricks.v1+cell": {
     "inputWidgets": {},
     "nuid": "6e215475-bc30-496e-8eb1-2cd7fab3ffe6",
     "showTitle": false,
     "title": ""
    }
   },
   "outputs": [],
   "source": [
    "import pandas as pd\n",
    "dataset = Dataset.get_by_name(ws, name='car_and_health_insurance_cross_sell')\n",
    "\n",
    "pdf = dataset.to_pandas_dataframe()\n",
    "\n",
    "pdf.head()"
   ]
  },
  {
   "cell_type": "markdown",
   "metadata": {
    "application/vnd.databricks.v1+cell": {
     "inputWidgets": {},
     "nuid": "f3519c3f-3b00-47f3-b297-4171ab9e2ea7",
     "showTitle": false,
     "title": ""
    }
   },
   "source": [
    "#### Pandas and matplotlib"
   ]
  },
  {
   "cell_type": "code",
   "execution_count": null,
   "metadata": {
    "application/vnd.databricks.v1+cell": {
     "inputWidgets": {},
     "nuid": "8cf8793a-6a2c-4807-ada4-c2faa00e81f4",
     "showTitle": false,
     "title": ""
    }
   },
   "outputs": [],
   "source": [
    "import pandas as pd\n",
    "import matplotlib.pyplot as plt\n",
    "# pdf = df.toPandas()\n",
    "\n",
    "import warnings\n",
    "warnings.filterwarnings('ignore')\n",
    "\n",
    "plt.subplot(1, 5, 1)\n",
    "v_age_counts = pdf['Vehicle_Age'].value_counts()\n",
    "ax = v_age_counts.plot.pie(autopct = '%1.1f%%',figsize = (30,17), title = \"Vehicle Age %\", textprops={'fontsize': 14})\n",
    "ax.yaxis.set_label_text('')\n",
    "\n",
    "plt.subplot(1, 5, 2)\n",
    "gender_counts = pdf['Gender'].value_counts()\n",
    "ax = gender_counts.plot.pie(autopct = '%1.1f%%',figsize = (30,17), title = \"Gender %\", textprops={'fontsize': 14})\n",
    "ax.yaxis.set_label_text('')\n",
    "\n",
    "plt.subplot(1, 5, 3)\n",
    "v_damage_counts = pdf['Vehicle_Damage'].value_counts()\n",
    "ax = v_damage_counts.plot.pie(autopct = '%1.1f%%',figsize = (30,17),  title = \"Vehicle Damage %\", textprops={'fontsize': 14})\n",
    "ax.yaxis.set_label_text('')\n",
    "\n",
    "plt.subplot(1, 5, 4)\n",
    "dl_counts = pdf['Driving_License'].value_counts()\n",
    "ax = dl_counts.plot.pie(autopct = '%1.1f%%',figsize = (30,17),  title = \"Driving License %\", textprops={'fontsize': 14})\n",
    "ax.yaxis.set_label_text('')\n",
    "\n",
    "plt.subplot(1, 5, 5)\n",
    "dl_counts = pdf['Previously_Insured'].value_counts()\n",
    "ax = dl_counts.plot.pie(autopct = '%1.1f%%',figsize = (30,17),  title = \"Previously Insured %\", textprops={'fontsize': 14})\n",
    "ax.yaxis.set_label_text('')\n"
   ]
  },
  {
   "cell_type": "code",
   "execution_count": null,
   "metadata": {},
   "outputs": [],
   "source": []
  }
 ],
 "metadata": {
  "application/vnd.databricks.v1+notebook": {
   "dashboards": [],
   "language": "python",
   "notebookName": "5. (AML) Data Exploration and Visualisation in Azure ML",
   "notebookOrigID": 1959933226872188,
   "widgets": {}
  },
  "kernel_info": {
   "name": "python3-azureml"
  },
  "kernelspec": {
   "display_name": "Python 3.6 - AzureML",
   "language": "python",
   "name": "python3-azureml"
  },
  "language_info": {
   "codemirror_mode": {
    "name": "ipython",
    "version": 3
   },
   "file_extension": ".py",
   "mimetype": "text/x-python",
   "name": "python",
   "nbconvert_exporter": "python",
   "pygments_lexer": "ipython3",
   "version": "3.6.9"
  },
  "nteract": {
   "version": "nteract-front-end@1.0.0"
  }
 },
 "nbformat": 4,
 "nbformat_minor": 1
}
