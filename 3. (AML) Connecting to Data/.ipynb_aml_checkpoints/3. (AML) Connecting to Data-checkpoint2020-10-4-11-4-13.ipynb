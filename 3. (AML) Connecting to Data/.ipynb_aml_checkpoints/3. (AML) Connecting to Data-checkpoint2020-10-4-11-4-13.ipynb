{
 "cells": [
  {
   "cell_type": "markdown",
   "metadata": {
    "application/vnd.databricks.v1+cell": {
     "inputWidgets": {},
     "nuid": "095273e0-4541-4856-907b-afa09bf323e0",
     "showTitle": false,
     "title": ""
    }
   },
   "source": [
    "# 3. (AML) Connecting to Data\n",
    "\n",
    "\n",
    "\n",
    "\n",
    "## Datasets and datastores\n",
    "\n",
    "\n",
    "https://docs.microsoft.com/en-us/azure/machine-learning/concept-azure-machine-learning-architecture#datasets-and-datastores\n",
    "  \n",
    "   \n",
    "Azure Machine Learning Datasets make it easier to access and work with your data. By creating a dataset, you create a reference to the data source location along with a copy of its metadata. Because the data remains in its existing location, you incur no extra storage cost, and don't risk the integrity of your data sources.\n",
    "\n",
    "For more information, see Create and register Azure Machine Learning Datasets. For more examples using Datasets, see the sample notebooks.\n",
    "\n",
    "Datasets use datastores to securely connect to your Azure storage services. **Datastores store connection information without putting your authentication credentials and the integrity of your original data source at risk**. They store connection information, like your subscription ID and token authorization in your Key Vault associated with the workspace, so you can securely access your storage without having to hard code them in your script.\n",
    "\n",
    "<img src=\"https://docs.microsoft.com/en-us/azure/machine-learning/media/concept-data/data-concept-diagram.svg\" width=\"700\">"
   ]
  },
  {
   "cell_type": "markdown",
   "metadata": {
    "application/vnd.databricks.v1+cell": {
     "inputWidgets": {},
     "nuid": "bd241510-ac76-4d75-aaac-10d10bdc0526",
     "showTitle": false,
     "title": ""
    }
   },
   "source": [
    "## Registering a Dataset\n",
    "\n",
    "https://docs.microsoft.com/en-us/azure/machine-learning/how-to-connect-data-ui#create-datasets\n",
    "\n",
    "\n",
    "<img src=\"https://docs.microsoft.com/en-us/azure/machine-learning/media/how-to-connect-data-ui/create-dataset-ui.gif\" width=\"700\">"
   ]
  },
  {
   "cell_type": "markdown",
   "metadata": {
    "application/vnd.databricks.v1+cell": {
     "inputWidgets": {},
     "nuid": "161e0119-f627-48ec-80ed-ace89e8764b5",
     "showTitle": false,
     "title": ""
    }
   },
   "source": [
    "## Challenge 01.01\n",
    "\n",
    "***===> Create a new tabular dataset from a local file.***\n",
    "\n",
    "* First download this file: https://bupademoflatfile.blob.core.windows.net/public/lab01sample.csv to your local PC\n",
    "* Now load it as a new data set in Azure Machine Learning as a **\\<YOUR_INITIALS\\>_LAB_01**"
   ]
  },
  {
   "cell_type": "markdown",
   "metadata": {
    "application/vnd.databricks.v1+cell": {
     "inputWidgets": {},
     "nuid": "7cc05b7d-d83b-4bb7-bf61-7d4e77cf9c4b",
     "showTitle": false,
     "title": ""
    }
   },
   "source": [
    "## Challenge 01.02\n",
    "\n",
    "***===> Create a new tabular dataset from a SQL TABLE***\n",
    "\n",
    "**Only one of you** needs to create a SQL **Datastore** ... let us call it **bupasqldemo**\n",
    "\n",
    "* Use Service Principal: **5203e379-a33a-4aea-bd8d-20bef410cc72**\n",
    "* Use secret: **9\\~by7nEl35Zv-3lntYqwm7b-15\\~ulIWHmw**\n",
    "\n",
    "\n",
    "Then you can create the **Dataset**\n",
    "* Use the new datastore you created\n",
    "* Use query **SELECT * FROM DEMONSTRATOR** to get a list of demonstrators"
   ]
  },
  {
   "cell_type": "markdown",
   "metadata": {
    "application/vnd.databricks.v1+cell": {
     "inputWidgets": {},
     "nuid": "40ce86d7-f29e-4854-8808-fb4c86d28d23",
     "showTitle": false,
     "title": ""
    }
   },
   "source": [
    "## Now let us see our dataset\n",
    "\n",
    "First we connect to the datasource"
   ]
  },
  {
   "cell_type": "code",
   "execution_count": null,
   "metadata": {
    "application/vnd.databricks.v1+cell": {
     "inputWidgets": {},
     "nuid": "0b899f54-b4d4-41fc-9588-15b2a540babb",
     "showTitle": false,
     "title": ""
    }
   },
   "outputs": [],
   "source": [
    "import os\n",
    "from azureml.core import Workspace, Dataset\n",
    "from azureml.core.authentication import ServicePrincipalAuthentication\n",
    "\n",
    "\n",
    "service_principal = ServicePrincipalAuthentication(\n",
    "    tenant_id=\"502f2f1d-000c-410d-9d65-de9b3cfa9a83\",\n",
    "    service_principal_id=\"5203e379-a33a-4aea-bd8d-20bef410cc72\",\n",
    "    service_principal_password=\"9~by7nEl35Zv-3lntYqwm7b-15~ulIWHmw\")\n",
    "\n",
    "\n",
    "ws = Workspace(\n",
    "    subscription_id='f9f80119-dbb0-496f-8e2c-351e0b95b66e',\n",
    "    resource_group='bupa_demo',\n",
    "    workspace_name='bupa_demo',\n",
    "    auth=service_principal)\n",
    "\n",
    "print(\"Found workspace {} at location {}\".format(ws.name, ws.location))"
   ]
  },
  {
   "cell_type": "markdown",
   "metadata": {
    "application/vnd.databricks.v1+cell": {
     "inputWidgets": {},
     "nuid": "7ff165ec-0a77-4782-bbd2-9b5af4252e2d",
     "showTitle": false,
     "title": ""
    }
   },
   "source": [
    "Now we mount the datasource in a temp folder and read it"
   ]
  },
  {
   "cell_type": "code",
   "execution_count": null,
   "metadata": {
    "application/vnd.databricks.v1+cell": {
     "inputWidgets": {},
     "nuid": "31f31aa3-9934-43e9-8a80-f23514a40122",
     "showTitle": false,
     "title": ""
    }
   },
   "outputs": [],
   "source": [
    "import pandas as pd\n",
    "\n",
    "from glob import glob\n",
    "dataset = Dataset.get_by_name(ws, name='car_and_health_insurance_cross_sell')\n",
    "\n",
    "df_train = dataset.to_pandas_dataframe()\n"
   ]
  },
  {
   "cell_type": "code",
   "execution_count": null,
   "metadata": {
    "application/vnd.databricks.v1+cell": {
     "inputWidgets": {},
     "nuid": "a22a4b3e-3ac9-4225-88e3-82e3ecf0da55",
     "showTitle": false,
     "title": ""
    }
   },
   "outputs": [],
   "source": [
    "df_train.head()"
   ]
  }
 ],
 "metadata": {
  "application/vnd.databricks.v1+notebook": {
   "dashboards": [],
   "language": "python",
   "notebookName": "3. (AML) Connecting to Data",
   "notebookOrigID": 1959933226872176,
   "widgets": {}
  },
  "kernel_info": {
   "name": "python3-azureml"
  },
  "kernelspec": {
   "display_name": "Python 3.6 - AzureML",
   "language": "python",
   "name": "python3-azureml"
  },
  "language_info": {
   "codemirror_mode": {
    "name": "ipython",
    "version": 3
   },
   "file_extension": ".py",
   "mimetype": "text/x-python",
   "name": "python",
   "nbconvert_exporter": "python",
   "pygments_lexer": "ipython3",
   "version": "3.6.9"
  },
  "nteract": {
   "version": "nteract-front-end@1.0.0"
  }
 },
 "nbformat": 4,
 "nbformat_minor": 1
}
